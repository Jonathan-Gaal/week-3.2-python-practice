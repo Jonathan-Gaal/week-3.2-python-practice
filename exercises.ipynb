{
 "cells": [
  {
   "cell_type": "markdown",
   "metadata": {},
   "source": [
    "# Python Exercises Practice 2\n",
    "\n",
    "### Exercise 1: String Concatenation\n",
    "\n",
    " Create a function called concatenate_strings that takes two strings as parameters and returns the concatenation of the two strings. Place a space between strings. Use f-string to format the output.\n",
    "\n"
   ]
  },
  {
   "cell_type": "code",
   "execution_count": null,
   "metadata": {},
   "outputs": [],
   "source": [
    "# Your code here\n",
    "\n",
    "# Uncomment the invoked functions to Test\n",
    "\n",
    "# concatenate_strings(\"Hello\", \"World\")\n",
    "# should print \"Hello World\"\n",
    "\n",
    "# concatenate_strings(\"Oreo\", \"Cookies\")\n",
    "# should print \"Oreo Cookies\""
   ]
  },
  {
   "cell_type": "markdown",
   "metadata": {},
   "source": [
    "### Exercise 2: Truthy or Falsey Boolean Logic\n",
    "\n",
    "Create a function called flip_boolean that takes an input and returns false if the input is true or truthy and true if the input is false or falsy.\n",
    "\n"
   ]
  },
  {
   "cell_type": "code",
   "execution_count": null,
   "metadata": {},
   "outputs": [],
   "source": [
    "# Your code here\n",
    "\n",
    "# Uncomment the invoked functions to Test\n",
    "# flip_boolean(True)\n",
    "# should print False\n",
    "\n",
    "# flip_boolean(False)\n",
    "# should print True\n",
    "\n",
    "# flip_boolean(\"Hello\")\n",
    "# should print False\n",
    "\n",
    "# flip_boolean(0)\n",
    "# should print True"
   ]
  },
  {
   "cell_type": "markdown",
   "metadata": {},
   "source": [
    "### Exercise 3: Return AB or CD   \n",
    "\n",
    "Create a function return_ab_or_cd that takes 4 values and returns true if the first two values are truthy or the last two values are truthy.\n"
   ]
  },
  {
   "cell_type": "code",
   "execution_count": null,
   "metadata": {},
   "outputs": [],
   "source": [
    "# Your code here\n",
    "\n",
    "# Uncomment the invoked functions to Test\n",
    "# return_ab_or_cd(True, True, False, False)\n",
    "# should print True\n",
    "\n",
    "# return_ab_or_cd('False', '', True, 1)\n",
    "# should print True\n",
    "\n",
    "# return_ab_or_cd(3, 'dog', 'cat', False)\n",
    "# should print True\n"
   ]
  },
  {
   "cell_type": "markdown",
   "metadata": {},
   "source": [
    "### Exercise 4: String Slicing\n",
    "\n",
    "Create a function return_every_other_character that takes a string and returns every other character of the string.\n",
    "\n",
    "\n",
    "\n",
    "\n"
   ]
  },
  {
   "cell_type": "code",
   "execution_count": null,
   "metadata": {},
   "outputs": [],
   "source": [
    "# Your code here\n",
    "\n",
    "# Uncomment the invoked functions to Test\n",
    "# return_every_other_character(\"Hello\")\n",
    "# should print \"Hlo\"\n",
    "\n",
    "# return_every_other_character(\"Oreo\")\n",
    "# should print \"Or\"\n",
    "\n",
    "# return_every_other_character(\"Cookies\")\n",
    "# should print \"Coe\""
   ]
  },
  {
   "cell_type": "markdown",
   "metadata": {},
   "source": [
    "### Exercise 5: Control Flow\n",
    "\n",
    "Create a function called language_detector that takes a string representing a language and returns the string for \"Hello, World\", if the language is English, \"Hola Mundo\" if the language is Spanish, or \"Unknown\" if the language is not English or Spanish\n",
    "\n"
   ]
  },
  {
   "cell_type": "code",
   "execution_count": null,
   "metadata": {},
   "outputs": [],
   "source": [
    "# Your code here\n",
    "\n",
    "# Uncomment the invoked functions to Test\n",
    "# language_detector(\"English\")\n",
    "# should print \"Hello, World\"\n",
    "\n",
    "# language_detector(\"Spanish\")\n",
    "# should print \"Hola Mundo\"\n",
    "\n",
    "# language_detector(\"French\")\n",
    "# should print \"Unknown\""
   ]
  },
  {
   "cell_type": "markdown",
   "metadata": {},
   "source": [
    "### Exercise 6: String Manipulation\n",
    "\n",
    "Write a function `manipulate_string` that takes a string and does the following:\n",
    "1. Converts the string to uppercase\n",
    "2. Reverses the string\n",
    "3. Returns a slice of the reversed string (from 2nd to 5th character)\n",
    "\n"
   ]
  },
  {
   "cell_type": "code",
   "execution_count": null,
   "metadata": {},
   "outputs": [],
   "source": [
    "# Your code here\n",
    "\n",
    "# Uncomment the invoked functions to Test\n",
    "# manipulate_string(\"Hello\")\n",
    "# should print \"OLLEh\"\n",
    "\n",
    "# manipulate_string(\"Oreo\")\n",
    "# should print \"ERo\"\n",
    "\n",
    "# manipulate_string(\"Cookies\")\n",
    "# should print \"SREeK\""
   ]
  },
  {
   "cell_type": "markdown",
   "metadata": {},
   "source": [
    "### Exercise 7: Advanced F-string Formatting\n",
    "\n",
    "Write a function `format_product_info` that takes a product name (string), price (float), and quantity (integer). Use f-strings to return a formatted string with the product details, aligning the text and formatting the price to 2 decimal places. (You may have to look up how to use the python version of the JS .toFixed() method)\n",
    "\n"
   ]
  },
  {
   "cell_type": "code",
   "execution_count": null,
   "metadata": {},
   "outputs": [],
   "source": [
    "# Your code here\n",
    "\n",
    "# Uncomment the invoked functions to Test\n",
    "# format_product_info(\"Laptop\", 1200.50, 5)\n",
    "# should print \"Product: Laptop, Price: $1200.50, Quantity: 5\"\n",
    "\n",
    "# format_product_info(\"Phone\", 800.75, 3)\n",
    "# should print \"Product: Phone, Price: $800.75, Quantity: 3\"\n",
    "\n",
    "# format_product_info(\"Tablet\", 300.25, 2)\n",
    "# should print \"Product: Tablet, Price: $300.25, Quantity: 2\""
   ]
  },
  {
   "cell_type": "markdown",
   "metadata": {},
   "source": [
    "### Exercise 8: Ticket Price Calculator\n",
    "\n",
    "Create a function called calculate_ticket_price that takes three parameters:\n",
    "1. day (string): The day of the week (e.g., \"Monday\", \"Saturday\")\n",
    "2. age (integer): The age of the customer\n",
    "3. is_student (boolean): Whether the customer is a student or not\n",
    "\n",
    "The function should calculate the ticket price based on the following rules:\n",
    "- Base price is $10\n",
    "- If it's a weekend (day is \"Saturday\" or \"Sunday\"), add $5\n",
    "- If age is under 18 or over 65, apply a 20% discount\n",
    "- If is_student is True and it's not a weekend, apply a 10% discount\n",
    "\n",
    "Return the final ticket price as a float rounded to 2 decimal places.\n",
    "\n",
    "\n",
    "\n"
   ]
  },
  {
   "cell_type": "code",
   "execution_count": null,
   "metadata": {},
   "outputs": [],
   "source": [
    "# Your code here\n",
    "\n",
    "\n",
    "# Uncomment the invoked functions to Test\n",
    "# calculate_ticket_price(\"Monday\", 25, True)\n",
    "# should print 8.10\n",
    "\n",
    "# calculate_ticket_price(\"Saturday\", 50, False)\n",
    "# should print 13.50\n",
    "\n",
    "# calculate_ticket_price(\"Sunday\", 17, True)\n",
    "# should print 7.20"
   ]
  },
  {
   "cell_type": "markdown",
   "metadata": {},
   "source": [
    "### Exercise 9: Function comparing Python to JavaScript syntax\n",
    "\n",
    "Rewrite the following JavaScript function in Python:\n",
    "\n",
    "```javascript\n",
    "function jsComparison(x, y) {\n",
    "    if (x === y) {\n",
    "        return \"Equal\";\n",
    "    } else if (x > y) {\n",
    "        return \"Greater\";\n",
    "    } else {\n",
    "        return \"Less\";\n",
    "    }\n",
    "}\n",
    "\n",
    "\n"
   ]
  },
  {
   "cell_type": "code",
   "execution_count": null,
   "metadata": {},
   "outputs": [],
   "source": [
    "# Your code here\n",
    "\n",
    "# Uncomment the invoked functions to Test\n",
    "# js_comparison(1, 1)\n",
    "# should print \"Equal\"\n",
    "\n",
    "# js_comparison(2, 1)\n",
    "# should print \"Greater\"\n",
    "\n",
    "# js_comparison(1, 2)\n",
    "# should print \"Less\""
   ]
  },
  {
   "cell_type": "markdown",
   "metadata": {},
   "source": [
    "### Exercise 10: Simulated Switch-Case\n",
    "\n",
    "Python doesn't have a switch-case statement. Implement a function `simulated_switch` that takes a day number (1-7) and returns the day name. Use if-elif-else statements to simulate a switch-case behavior.\n",
    "OR find the switch-case statement for python and implement it.\n",
    "\n",
    "\n"
   ]
  },
  {
   "cell_type": "code",
   "execution_count": null,
   "metadata": {},
   "outputs": [],
   "source": [
    "# Your code here\n",
    "\n",
    "# Uncomment the invoked functions to Test\n",
    "# simulated_switch(1)\n",
    "# should print \"Monday\"\n",
    "\n",
    "# simulated_switch(5)\n",
    "# should print \"Friday\"\n",
    "\n",
    "# simulated_switch(7)\n",
    "# should print \"Sunday\""
   ]
  }
 ],
 "metadata": {
  "language_info": {
   "name": "python"
  }
 },
 "nbformat": 4,
 "nbformat_minor": 2
}
