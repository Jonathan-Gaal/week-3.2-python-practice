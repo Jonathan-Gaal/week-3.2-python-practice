{
 "cells": [
  {
   "cell_type": "markdown",
   "metadata": {},
   "source": [
    "# Python Exercises Practice 2\n",
    "\n",
    "## Exercise 1: String Concatenation\n",
    " Create a function called concatenate_strings that takes two strings as parameters and returns the concatenation of the two strings. Place a space between strings. Use f-string to format the output.\n",
    "\n"
   ]
  },
  {
   "cell_type": "code",
   "execution_count": null,
   "metadata": {},
   "outputs": [],
   "source": [
    "# Your code here\n",
    "\n",
    "# Uncomment below to see the output\n",
    "# print(concatenate_strings(\"Hello\", \"World\"))\n",
    "# print(concatenate_strings(\"Oreo\", \"Cookies\"))"
   ]
  },
  {
   "cell_type": "markdown",
   "metadata": {},
   "source": [
    "## Exercise 2: Truthy or Falsey Boolean Logic\n",
    "\n",
    "Create a function called flip_boolean that takes an input and returns false if the input is true or truthy and true if the input is false or falsy.\n",
    "\n"
   ]
  },
  {
   "cell_type": "code",
   "execution_count": null,
   "metadata": {},
   "outputs": [],
   "source": [
    "# Your code here\n",
    "\n",
    "# Uncomment below to see the output\n",
    "# print(flip_boolean(True)) -> False\n",
    "# print(flip_boolean(False)) -> True\n",
    "# print(flip_boolean(\"Hello\")) -> False\n",
    "# print(flip_boolean(0))"
   ]
  },
  {
   "cell_type": "markdown",
   "metadata": {},
   "source": [
    "# Exercise 3: Return AB or CD   \n",
    "\n",
    "Create a function return_ab_or_cd that takes 4 values and returns true if the first two values are truthy or the last two values are truthy.\n"
   ]
  },
  {
   "cell_type": "code",
   "execution_count": null,
   "metadata": {},
   "outputs": [],
   "source": [
    "# Your code here\n",
    "\n",
    "# Uncomment below to see the output\n",
    "# print(return_ab_or_cd(True, True, False, False)) -> True\n",
    "# print(return_ab_or_cd('False', '', True, 1)) -> True\n",
    "# print(return_ab_or_cd(3, 'dog', 'cat', False)) -> True\n"
   ]
  },
  {
   "cell_type": "markdown",
   "metadata": {},
   "source": [
    "## Exercise 4: String Slicing\n",
    "\n",
    "Create a function return_every_other_character that takes a string and returns every other character of the string.\n",
    "\n",
    "\n",
    "\n",
    "\n"
   ]
  },
  {
   "cell_type": "code",
   "execution_count": null,
   "metadata": {},
   "outputs": [],
   "source": [
    "# Your code here\n",
    "\n",
    "# Uncomment below to see the output\n",
    "# print(return_every_other_character(\"Hello\")) -> \"Hlo\"\n",
    "# print(return_every_other_character(\"Oreo\")) -> \"Or\"\n",
    "# print(return_every_other_character(\"Cookies\")) -> \"Coe\""
   ]
  },
  {
   "cell_type": "markdown",
   "metadata": {},
   "source": [
    "# Exercise 5: Control Flow\n",
    "\n",
    "Create a function called language_detector that takes a string representing a language and returns the string for \"Hello, World\", if the language is English, \"Hola Mundo\" if the language is Spanish, or \"Unknown\" if the language is not English or Spanish\n",
    "\n"
   ]
  },
  {
   "cell_type": "code",
   "execution_count": null,
   "metadata": {},
   "outputs": [],
   "source": [
    "# Your code here\n",
    "\n",
    "# Uncomment below to see the output\n",
    "# print(language_detector(\"English\")) -> \"Hello, World\"\n",
    "# print(language_detector(\"Spanish\")) -> \"Hola Mundo\"\n",
    "# print(language_detector(\"French\")) -> \"Unknown\""
   ]
  },
  {
   "cell_type": "markdown",
   "metadata": {},
   "source": [
    "## Exercise 6: String Manipulation\n",
    "\n",
    "Write a function `manipulate_string` that takes a string and does the following:\n",
    "1. Converts the string to uppercase\n",
    "2. Reverses the string\n",
    "3. Returns a slice of the reversed string (from 2nd to 5th character)\n",
    "\n"
   ]
  },
  {
   "cell_type": "code",
   "execution_count": null,
   "metadata": {},
   "outputs": [],
   "source": [
    "# Your code here\n",
    "\n",
    "# Uncomment below to see the output\n",
    "# print(manipulate_string(\"Hello\")) -> \"OLLEh\"\n",
    "# print(manipulate_string(\"Oreo\")) -> \"ERo\"\n",
    "# print(manipulate_string(\"Cookies\")) -> \"SREeK\""
   ]
  },
  {
   "cell_type": "markdown",
   "metadata": {},
   "source": [
    "## Exercise 7: Advanced F-string Formatting\n",
    "Write a function `format_product_info` that takes a product name (string), price (float), and quantity (integer). Use f-strings to return a formatted string with the product details, aligning the text and formatting the price to 2 decimal places. (You may have to look up how to use the python version of the JS .toFixed() method)\n",
    "\n"
   ]
  },
  {
   "cell_type": "code",
   "execution_count": null,
   "metadata": {},
   "outputs": [],
   "source": [
    "# Your code here\n",
    "\n",
    "# Uncomment below to see the output\n",
    "# print(format_product_info(\"Laptop\", 1200.50, 5)) -> \"Product: Laptop, Price: $1200.50, Quantity: 5\"\n",
    "# print(format_product_info(\"Phone\", 800.75, 3)) -> \"Product: Phone, Price: $800.75, Quantity: 3\"\n",
    "# print(format_product_info(\"Tablet\", 300.25, 2)) -> \"Product: Tablet, Price: $300.25, Quantity: 2\""
   ]
  },
  {
   "cell_type": "markdown",
   "metadata": {},
   "source": [
    "## Exercise 8: Ticket Price Calculator\n",
    "\n",
    "Create a function called calculate_ticket_price that takes three parameters:\n",
    "1. day (string): The day of the week (e.g., \"Monday\", \"Saturday\")\n",
    "2. age (integer): The age of the customer\n",
    "3. is_student (boolean): Whether the customer is a student or not\n",
    "\n",
    "The function should calculate the ticket price based on the following rules:\n",
    "- Base price is $10\n",
    "- If it's a weekend (day is \"Saturday\" or \"Sunday\"), add $5\n",
    "- If age is under 18 or over 65, apply a 20% discount\n",
    "- If is_student is True and it's not a weekend, apply a 10% discount\n",
    "\n",
    "Return the final ticket price as a float rounded to 2 decimal places.\n",
    "\n",
    "\n",
    "\n"
   ]
  },
  {
   "cell_type": "code",
   "execution_count": null,
   "metadata": {},
   "outputs": [],
   "source": [
    "# Your code here\n",
    "def calculate_ticket_price(day, age, is_student):\n",
    "\n",
    "# Uncomment below to see the output\n",
    "# print(calculate_ticket_price(\"Monday\", 25, True)) -> 8.10\n",
    "# print(calculate_ticket_price(\"Saturday\", 50, False)) -> 13.50\n",
    "# print(calculate_ticket_price(\"Sunday\", 17, True)) -> 7.20"
   ]
  },
  {
   "cell_type": "markdown",
   "metadata": {},
   "source": [
    "## Exercise 9: Function comparing Python to JavaScript syntax\n",
    "Rewrite the following JavaScript function in Python:\n",
    "\n",
    "```javascript\n",
    "function jsComparison(x, y) {\n",
    "    if (x === y) {\n",
    "        return \"Equal\";\n",
    "    } else if (x > y) {\n",
    "        return \"Greater\";\n",
    "    } else {\n",
    "        return \"Less\";\n",
    "    }\n",
    "}\n",
    "\n",
    "\n",
    "# Your code here\n",
    "\n",
    "# Uncomment below to see the output\n",
    "# print(jsComparison(1, 1)) -> \"Equal\"\n",
    "# print(jsComparison(2, 1)) -> \"Greater\"\n",
    "# print(jsComparison(1, 2)) -> \"Less\""
   ]
  },
  {
   "cell_type": "code",
   "execution_count": null,
   "metadata": {},
   "outputs": [],
   "source": [
    "# Your code here\n",
    "\n",
    "# Uncomment below to see the output\n",
    "# print(js_comparison(1, 1)) -> \"Equal\"\n",
    "# print(js_comparison(2, 1)) -> \"Greater\"\n",
    "# print(js_comparison(1, 2)) -> \"Less\""
   ]
  },
  {
   "cell_type": "markdown",
   "metadata": {},
   "source": [
    "## Exercise 10: String Analysis\n",
    "\n",
    "Create a function `analyze_string` that takes a string and returns a formatted string containing:\n",
    "1. The number of alphabetic characters\n",
    "2. The number of numeric characters\n",
    "3. The number of spaces\n",
    "4. The number of other characters\n",
    "\n",
    "Use string methods and conditional statements to accomplish this.\n",
    "\n",
    "\n",
    "\n",
    "## Exercise 10: Simulated Switch-Case\n",
    "\n",
    "Python doesn't have a switch-case statement. Implement a function `simulated_switch` that takes a day number (1-7) and returns the day name. Use if-elif-else statements to simulate a switch-case behavior.\n",
    "OR find the switch-case statement for python and implement it.\n",
    "\n",
    "\n"
   ]
  },
  {
   "cell_type": "code",
   "execution_count": null,
   "metadata": {},
   "outputs": [],
   "source": [
    "# Your code here\n",
    "\n",
    "# Uncomment below to see the output\n",
    "# print(simulated_switch(1)) -> \"Monday\"\n",
    "# print(simulated_switch(5)) -> \"Friday\"\n",
    "# print(simulated_switch(7)) -> \"Sunday\""
   ]
  }
 ],
 "metadata": {
  "language_info": {
   "name": "python"
  }
 },
 "nbformat": 4,
 "nbformat_minor": 2
}
